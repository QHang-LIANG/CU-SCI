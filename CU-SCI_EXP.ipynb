version https://git-lfs.github.com/spec/v1
oid sha256:def4aa8177bc4b75f93826de98487bec2a1bd0d8e9189e62e1de4258e6dc7f68
size 2709607
