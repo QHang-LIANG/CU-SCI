version https://git-lfs.github.com/spec/v1
oid sha256:38dac32570924bd1d18de063b0742367721ebe092b4e6ae7b4930a3cf33ad7a7
size 1047489
