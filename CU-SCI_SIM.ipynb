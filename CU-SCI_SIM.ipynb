version https://git-lfs.github.com/spec/v1
oid sha256:c7d859b719e9510d476faff8d5e5dcc8bd48a4b188b7df7ae74fe811e793369c
size 1010485
